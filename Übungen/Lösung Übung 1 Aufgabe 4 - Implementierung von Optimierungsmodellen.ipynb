{
 "cells": [
  {
   "cell_type": "markdown",
   "id": "97dabbf6",
   "metadata": {},
   "source": [
    "# Übung 1 Aufgabe 4 - Implementierung von Optimierungsmodellen"
   ]
  },
  {
   "cell_type": "code",
   "execution_count": null,
   "id": "1cad4b74",
   "metadata": {
    "collapsed": true
   },
   "outputs": [],
   "source": [
    "!pip install pulp"
   ]
  },
  {
   "cell_type": "markdown",
   "id": "00ae7d0d",
   "metadata": {},
   "source": [
    "Importieren Sie das Python-Modul von PuLP."
   ]
  },
  {
   "cell_type": "code",
   "execution_count": 1,
   "id": "3be22e7d",
   "metadata": {},
   "outputs": [],
   "source": [
    "from pulp import *"
   ]
  },
  {
   "cell_type": "markdown",
   "id": "fee04033",
   "metadata": {},
   "source": [
    "## Produktionsprogrammplanung"
   ]
  },
  {
   "cell_type": "markdown",
   "id": "ff32ab5e",
   "metadata": {},
   "source": [
    "Im Folgenden sind die Modellparameter als Dictionaries dargestellt:"
   ]
  },
  {
   "cell_type": "code",
   "execution_count": 2,
   "id": "586629aa",
   "metadata": {},
   "outputs": [],
   "source": [
    "#Indexmenge der Produkte:\n",
    "produkte = [1,2]\n",
    "\n",
    "#Verkaufspreise von Produkt 1 und 2\n",
    "preise = {\n",
    "    1 : 3,\n",
    "    2 : 4\n",
    "}\n",
    "\n",
    "#Maschinenstunden von Produkt 1 und 2\n",
    "maschinenstunden = {\n",
    "    1 : 3,\n",
    "    2 : 2\n",
    "}\n",
    "\n",
    "#Rohstoffverbrauch von Produkt 1 und 2\n",
    "rohstoffverbrauch = {\n",
    "    1 : 5,\n",
    "    2 : 10\n",
    "}\n",
    "\n",
    "#Arbeitsstunden von Produkt 1 und 2\n",
    "arbeitsstunden = {\n",
    "    1 : 0,\n",
    "    2 : 0.5\n",
    "}\n",
    "\n",
    "#Ressourcenverfügbarkeiten\n",
    "ressourcen = {\n",
    "    \"maschine\": 1200,\n",
    "    \"rohstoffe\": 3000,\n",
    "    \"arbeitskraefte\": 125\n",
    "}"
   ]
  },
  {
   "cell_type": "markdown",
   "id": "0922ead9",
   "metadata": {},
   "source": [
    "Nutzen Sie die <code>LpProblem()</code>-Funktion, um ein Modell zu initialisieren:"
   ]
  },
  {
   "cell_type": "code",
   "execution_count": 3,
   "id": "d89937f0",
   "metadata": {},
   "outputs": [],
   "source": [
    "prob = LpProblem(\"Produktionsprogrammplanung\", LpMaximize)"
   ]
  },
  {
   "cell_type": "markdown",
   "id": "51572d58",
   "metadata": {},
   "source": [
    "Befüllen Sie die ein Dictionary <code>variables</code>mit den Entscheidungsvariablen für die Produkte 1 und 2 mit der LpVariable()-Funktion:"
   ]
  },
  {
   "cell_type": "code",
   "execution_count": 4,
   "id": "8b314c15",
   "metadata": {},
   "outputs": [],
   "source": [
    "variables = {}\n",
    "for produkt in produkte:\n",
    "    variables[produkt] = LpVariable(\"x_\"+str(produkt), 0, cat=LpContinuous)"
   ]
  },
  {
   "cell_type": "markdown",
   "id": "c66d3d97",
   "metadata": {},
   "source": [
    "Definieren Sie die Zielfunktion, welche den Gewinn maximiert:"
   ]
  },
  {
   "cell_type": "code",
   "execution_count": 5,
   "id": "81841d5f",
   "metadata": {},
   "outputs": [],
   "source": [
    "prob += (\n",
    "    lpSum(preise[produkt] * variables[produkt] for produkt in produkte), \"Gewinnfunktion\"\n",
    ")"
   ]
  },
  {
   "cell_type": "markdown",
   "id": "e0b76af0",
   "metadata": {},
   "source": [
    "Implementieren Sie die Nebenbedingungen, welche die Kapazitätsbeschränkungen der Ressourcen abbilden:"
   ]
  },
  {
   "cell_type": "code",
   "execution_count": 6,
   "id": "95342f9c",
   "metadata": {},
   "outputs": [],
   "source": [
    "#Kapazität Maschinenstunden:\n",
    "prob += (\n",
    "    lpSum(variables[produkt] * maschinenstunden[produkt] for produkt in produkte) <= ressourcen[\"maschine\"], \"Maschinenkapazitaet\"\n",
    ")\n",
    "\n",
    "#Kapazität Rohstoffe:\n",
    "prob += (\n",
    "    lpSum(variables[produkt] * rohstoffverbrauch[produkt] for produkt in produkte) <= ressourcen[\"rohstoffe\"], \"Rohstoffkapazitaet\"\n",
    ")\n",
    "\n",
    "#Kapazität Arbeitsstunden:\n",
    "prob += (\n",
    "    lpSum(variables[produkt] * arbeitsstunden[produkt] for produkt in produkte) <= ressourcen[\"arbeitskraefte\"], \"Arbeitskapazitaet\"\n",
    ")"
   ]
  },
  {
   "cell_type": "markdown",
   "id": "bc71e499",
   "metadata": {},
   "source": [
    "Lösen Sie das Modell und lassen Sie sich die Laufzeit, den optimalen Zielfunktionswert und die optimalen Variablenwerte ausgeben:"
   ]
  },
  {
   "cell_type": "code",
   "execution_count": null,
   "id": "9933c618",
   "metadata": {},
   "outputs": [],
   "source": [
    "#Lösen\n",
    "prob.solve()\n",
    "\n",
    "#Logging\n",
    "if(prob.status == 1):\n",
    "    print(f\"Das Modell wurde optimal geloest. Der optimale Zielfunktionswert betraegt {value(prob.objective)}.\")\n",
    "    print(f\"Die Loesungszeit betrug {value(prob.solutionTime)} Sekunden.\")\n",
    "    print()\n",
    "    print(f\"Optimales Prduktionsprogramm:\")\n",
    "    for produkt in produkte:\n",
    "        print(f\"Produktionsmenge von Produkt {produkt}: {variables[produkt].varValue}\")"
   ]
  },
  {
   "cell_type": "markdown",
   "id": "705604af",
   "metadata": {},
   "source": [
    "Führen Sie nach Lösen des Modells den folgenden Codeblock aus, um Ihre Lösung zu überprüfen:"
   ]
  },
  {
   "cell_type": "code",
   "execution_count": null,
   "id": "4d6bbe34",
   "metadata": {},
   "outputs": [],
   "source": [
    "#Überprüfungscodeblock\n",
    "allCorrect = True\n",
    "if(prob.status != 1):\n",
    "    print(\"Das Modell wurde nicht optimal gelöst.\")\n",
    "    allCorrect = False\n",
    "if(value(prob.objective) != 1500):\n",
    "    print(\"Der Zielfunktionswert ist nicht korrekt.\")\n",
    "    allCorrect = False\n",
    "if(variables[1].varValue != 300):\n",
    "    print(\"Die Produktionsmenge von Produkt 1 ist nicht korrekt.\")\n",
    "    allCorrect = False\n",
    "if(variables[2].varValue != 150):\n",
    "    print(\"Die Produktionsmenge von Produkt 2 ist nicht korrekt.\")\n",
    "    allCorrect = False\n",
    "if(allCorrect):\n",
    "    print(\"Das Modell scheint richtig implementiert zu sein.\")"
   ]
  },
  {
   "cell_type": "markdown",
   "id": "3c2c88ce",
   "metadata": {},
   "source": [
    "## Lerngruppenplanung "
   ]
  },
  {
   "cell_type": "markdown",
   "id": "65a3835c",
   "metadata": {},
   "source": [
    "Implementieren Sie das Modell zur Lerngruppenplanung in der Version aus Teilaufgabe e). Benennen Sie Ihre Modellvariable <code>prob</code> und fügen Sie die besuchten Lerngruppen der Liste <code>besuchte_gruppen</code> hinzu. Anschließend können Sie den Überprüfungscodeblock ausführen."
   ]
  },
  {
   "cell_type": "code",
   "execution_count": null,
   "id": "abc964a8",
   "metadata": {},
   "outputs": [],
   "source": [
    "besuchte_gruppen = []\n",
    "#Parameter\n",
    "\n",
    "lerngruppen=[1,2,3]\n",
    "nutzenfaktor = {\n",
    "    1: 2,\n",
    "    2: 1,\n",
    "    3: 0.5\n",
    "}\n",
    "zeitaufwand = {\n",
    "    1: 30,\n",
    "    2: 20,\n",
    "    3: 3\n",
    "}\n",
    "zeitbudget = 40\n",
    "\n",
    "#Modell definieren\n",
    "\n",
    "prob = LpProblem(\"Lerngruppenplanung\", LpMaximize)\n",
    "\n",
    "#Variablen:\n",
    "y={}\n",
    "for g in lerngruppen:\n",
    "    y[g] = LpVariable(\"y_\"+str(g), cat=LpBinary)\n",
    "x = LpVariable(\"x\", cat=LpBinary)\n",
    "\n",
    "#Zielfunktion\n",
    "prob += (\n",
    "    lpSum(nutzenfaktor[g] * y[g] for g in lerngruppen) + 0.5 * x, \"Nutzenfunktion\"\n",
    ")\n",
    "\n",
    "#Nebenbedingungen\n",
    "prob += (\n",
    "    lpSum(zeitaufwand[g] * y[g] for g in lerngruppen) <= zeitbudget, \"Zeitkapazitaet\"\n",
    ")\n",
    "\n",
    "prob += y[1] + y[3] <= 1, \"Gruppe 1 oder 3\"\n",
    "\n",
    "prob += x <= 0.5 * (y[2] + y[3]), \"Synergie Gruppen 2 und 3\"\n",
    "\n",
    "#Lösen\n",
    "prob.solve()\n",
    "\n",
    "for g in lerngruppen:\n",
    "    if y[g].varValue == 1:\n",
    "        besuchte_gruppen.append(g)\n",
    "        \n",
    "#Logging\n",
    "print(f\"Folgende Lerngruppen werden besucht: {besuchte_gruppen}\")"
   ]
  },
  {
   "cell_type": "code",
   "execution_count": null,
   "id": "dae5a6ab",
   "metadata": {},
   "outputs": [],
   "source": [
    "#Überprüfungscodeblock\n",
    "besuchte_gruppen = set(besuchte_gruppen)\n",
    "allCorrect = True\n",
    "if(prob.status != 1):\n",
    "    print(\"Das Modell wurde nicht optimal gelöst.\")\n",
    "    allCorrect = False\n",
    "if(value(prob.objective) != 2):\n",
    "    print(\"Der Zielfunktionswert ist nicht korrekt.\")\n",
    "    allCorrect = False\n",
    "if(2 in besuchte_gruppen == False or 3 in besuchte_gruppen == False or 1 in besuchte_gruppen):\n",
    "    print(\"Die ermittelte Lerngruppenentscheidung ist nicht korrekt.\")\n",
    "    allCorrect = False\n",
    "if(allCorrect):\n",
    "    print(\"Das Modell scheint richtig implementiert zu sein.\")"
   ]
  }
 ],
 "metadata": {
  "kernelspec": {
   "display_name": "Python 3 (ipykernel)",
   "language": "python",
   "name": "python3"
  },
  "language_info": {
   "codemirror_mode": {
    "name": "ipython",
    "version": 3
   },
   "file_extension": ".py",
   "mimetype": "text/x-python",
   "name": "python",
   "nbconvert_exporter": "python",
   "pygments_lexer": "ipython3",
   "version": "3.11.1"
  }
 },
 "nbformat": 4,
 "nbformat_minor": 5
}
