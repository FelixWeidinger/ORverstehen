{
 "cells": [
  {
   "cell_type": "markdown",
   "id": "97dabbf6",
   "metadata": {},
   "source": [
    "# Übung 1 Aufgabe 4 - Implementierung von Optimierungsmodellen"
   ]
  },
  {
   "cell_type": "markdown",
   "id": "00ae7d0d",
   "metadata": {},
   "source": [
    "Importieren Sie das Python-Modul von PuLP."
   ]
  },
  {
   "cell_type": "code",
   "execution_count": 28,
   "id": "3be22e7d",
   "metadata": {},
   "outputs": [],
   "source": []
  },
  {
   "cell_type": "markdown",
   "id": "fee04033",
   "metadata": {},
   "source": [
    "## Produktionsprogrammplanung"
   ]
  },
  {
   "cell_type": "markdown",
   "id": "ff32ab5e",
   "metadata": {},
   "source": [
    "Im Folgenden sind die Modellparameter als Dictionaries dargestellt:"
   ]
  },
  {
   "cell_type": "code",
   "execution_count": 29,
   "id": "586629aa",
   "metadata": {},
   "outputs": [],
   "source": [
    "#Indexmenge der Produkte:\n",
    "produkte = [1,2]\n",
    "\n",
    "#Verkaufspreise von Produkt 1 und 2\n",
    "preise = {\n",
    "    1 : 3,\n",
    "    2 : 4\n",
    "}\n",
    "\n",
    "#Maschinenstunden von Produkt 1 und 2\n",
    "maschinenstunden = {\n",
    "    1 : 3,\n",
    "    2 : 2\n",
    "}\n",
    "\n",
    "#Rohstoffverbrauch von Produkt 1 und 2\n",
    "rohstoffverbrauch = {\n",
    "    1 : 5,\n",
    "    2 : 10\n",
    "}\n",
    "\n",
    "#Arbeitsstunden von Produkt 1 und 2\n",
    "arbeitsstunden = {\n",
    "    1 : 0,\n",
    "    2 : 0.5\n",
    "}\n",
    "\n",
    "#Ressourcenverfügbarkeiten\n",
    "ressourcen = {\n",
    "    \"maschine\": 1200,\n",
    "    \"rohstoffe\": 3000,\n",
    "    \"arbeitskraefte\": 125\n",
    "}"
   ]
  },
  {
   "cell_type": "markdown",
   "id": "0922ead9",
   "metadata": {},
   "source": [
    "Nutzen Sie die <code>LpProblem()</code>-Funktion, um ein Modell zu initialisieren:"
   ]
  },
  {
   "cell_type": "code",
   "execution_count": 30,
   "id": "d89937f0",
   "metadata": {},
   "outputs": [],
   "source": [
    "prob = "
   ]
  },
  {
   "cell_type": "markdown",
   "id": "51572d58",
   "metadata": {},
   "source": [
    "Befüllen Sie die ein Dictionary <code>variables</code>mit den Entscheidungsvariablen für die Produkte 1 und 2 mit der <code>LpVariable()</code>-Funktion:"
   ]
  },
  {
   "cell_type": "code",
   "execution_count": 1,
   "id": "8b314c15",
   "metadata": {},
   "outputs": [],
   "source": [
    "variables = {}\n",
    "\n"
   ]
  },
  {
   "cell_type": "markdown",
   "id": "c66d3d97",
   "metadata": {},
   "source": [
    "Definieren Sie die Zielfunktion, welche den Gewinn maximiert:"
   ]
  },
  {
   "cell_type": "code",
   "execution_count": 34,
   "id": "81841d5f",
   "metadata": {},
   "outputs": [],
   "source": [
    "prob += (\n",
    "    \n",
    ")"
   ]
  },
  {
   "cell_type": "markdown",
   "id": "e0b76af0",
   "metadata": {},
   "source": [
    "Implementieren Sie die Nebenbedingungen, welche die Kapazitätsbeschränkungen der Ressourcen abbilden:"
   ]
  },
  {
   "cell_type": "code",
   "execution_count": 35,
   "id": "95342f9c",
   "metadata": {},
   "outputs": [],
   "source": [
    "#Kapazität Maschinenstunden:\n",
    "prob += (\n",
    "    lpSum(               \n",
    ")\n",
    "\n",
    "#Kapazität Rohstoffe:\n",
    "prob += (\n",
    "    \n",
    ")\n",
    "\n",
    "#Kapazität Arbeitsstunden:\n",
    "\n",
    "    \n",
    "    "
   ]
  },
  {
   "cell_type": "markdown",
   "id": "bc71e499",
   "metadata": {},
   "source": [
    "Lösen Sie das Modell und lassen Sie sich die Laufzeit, den optimalen Zielfunktionswert und die optimalen Variablenwerte ausgeben:"
   ]
  },
  {
   "cell_type": "code",
   "execution_count": 36,
   "id": "9933c618",
   "metadata": {},
   "outputs": [
    {
     "name": "stdout",
     "output_type": "stream",
     "text": [
      "Das Modell wurde optimal geloest. Der optimale Zielfunktionswert betraegt 1500.0.\n",
      "Die Loesungszeit betrug 0.06305265426635742 Sekunden.\n",
      "\n",
      "Optimales Prduktionsprogramm:\n",
      "Produktionsmenge von Produkt 1: 300.0\n",
      "Produktionsmenge von Produkt 2: 150.0\n"
     ]
    }
   ],
   "source": [
    "#Lösen\n",
    "\n",
    "\n",
    "#Logging\n",
    "\n",
    "\n",
    "\n",
    "\n",
    "\n"
   ]
  },
  {
   "cell_type": "markdown",
   "id": "705604af",
   "metadata": {},
   "source": [
    "Führen Sie nach Lösen des Modells den folgenden Codeblock aus, um Ihre Lösung zu überprüfen:"
   ]
  },
  {
   "cell_type": "code",
   "execution_count": 37,
   "id": "4d6bbe34",
   "metadata": {},
   "outputs": [
    {
     "name": "stdout",
     "output_type": "stream",
     "text": [
      "Das Modell scheint richtig implementiert zu sein.\n"
     ]
    }
   ],
   "source": [
    "#Überprüfungscodeblock\n",
    "allCorrect = True\n",
    "if(prob.status != 1):\n",
    "    print(\"Das Modell wurde nicht optimal gelöst.\")\n",
    "    allCorrect = False\n",
    "if(value(prob.objective) != 1500):\n",
    "    print(\"Der Zielfunktionswert ist nicht korrekt.\")\n",
    "    allCorrect = False\n",
    "if(variables[1].varValue != 300):\n",
    "    print(\"Die Produktionsmenge von Produkt 1 ist nicht korrekt.\")\n",
    "    allCorrect = False\n",
    "if(variables[2].varValue != 150):\n",
    "    print(\"Die Produktionsmenge von Produkt 2 ist nicht korrekt.\")\n",
    "    allCorrect = False\n",
    "if(allCorrect):\n",
    "    print(\"Das Modell scheint richtig implementiert zu sein.\")"
   ]
  },
  {
   "cell_type": "markdown",
   "id": "3c2c88ce",
   "metadata": {},
   "source": [
    "## Lerngruppenplanung "
   ]
  },
  {
   "cell_type": "markdown",
   "id": "65a3835c",
   "metadata": {},
   "source": [
    "Implementieren Sie das Modell zur Lerngruppenplanung in der Version aus Teilaufgabe e). Benennen Sie Ihre Modellvariable <code>prob</code> und fügen Sie die besuchten Lerngruppen der Liste <code>besuchte_gruppen</code> hinzu. Anschließend können Sie den Überprüfungscodeblock ausführen."
   ]
  },
  {
   "cell_type": "code",
   "execution_count": 56,
   "id": "abc964a8",
   "metadata": {},
   "outputs": [],
   "source": [
    "besuchte_gruppen = []\n",
    "#Parameter\n",
    "\n",
    "\n",
    "\n",
    "\n",
    "\n",
    "\n",
    "\n",
    "\n",
    "\n",
    "#Modell definieren\n",
    "\n",
    "\n",
    "\n",
    "#Variablen:\n",
    "\n",
    "\n",
    "\n",
    "\n",
    "\n",
    "#Zielfunktion\n",
    "\n",
    "\n",
    "\n",
    "\n",
    "\n",
    "#Nebenbedingungen\n",
    "\n",
    "\n",
    "\n",
    "\n",
    "\n",
    "\n",
    "\n",
    "\n",
    "\n",
    "#Lösen\n",
    "\n",
    "\n",
    "\n",
    "\n"
   ]
  },
  {
   "cell_type": "code",
   "execution_count": 57,
   "id": "dae5a6ab",
   "metadata": {},
   "outputs": [
    {
     "name": "stdout",
     "output_type": "stream",
     "text": [
      "Das Modell scheint richtig implementiert zu sein.\n"
     ]
    }
   ],
   "source": [
    "#Überprüfungscodeblock\n",
    "besuchte_gruppen = set(besuchte_gruppen)\n",
    "allCorrect = True\n",
    "if(prob.status != 1):\n",
    "    print(\"Das Modell wurde nicht optimal gelöst.\")\n",
    "    allCorrect = False\n",
    "if(value(prob.objective) != 2):\n",
    "    print(\"Der Zielfunktionswert ist nicht korrekt.\")\n",
    "    allCorrect = False\n",
    "if(2 in besuchte_gruppen == False or 3 in besuchte_gruppen == False or 1 in besuchte_gruppen):\n",
    "    print(\"Die ermittelte Lerngruppenentscheidung ist nicht korrekt.\")\n",
    "    allCorrect = False\n",
    "if(allCorrect):\n",
    "    print(\"Das Modell scheint richtig implementiert zu sein.\")"
   ]
  }
 ],
 "metadata": {
  "kernelspec": {
   "display_name": "Python 3 (ipykernel)",
   "language": "python",
   "name": "python3"
  },
  "language_info": {
   "codemirror_mode": {
    "name": "ipython",
    "version": 3
   },
   "file_extension": ".py",
   "mimetype": "text/x-python",
   "name": "python",
   "nbconvert_exporter": "python",
   "pygments_lexer": "ipython3",
   "version": "3.11.1"
  }
 },
 "nbformat": 4,
 "nbformat_minor": 5
}
