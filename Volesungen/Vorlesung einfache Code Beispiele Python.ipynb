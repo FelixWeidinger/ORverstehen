{
 "cells": [
  {
   "cell_type": "markdown",
   "id": "3a777411",
   "metadata": {},
   "source": [
    "Folie 6:\n",
    "* Listen sind Sammlungen von Elementen in einer bestimmten Reihenfolge"
   ]
  },
  {
   "cell_type": "code",
   "execution_count": null,
   "id": "3be34fa6",
   "metadata": {},
   "outputs": [],
   "source": [
    "seminargruppe = [\"Anna\", \"Ben\", \"Caro\"]\n",
    "seminargruppe.append(\"David\")   #Eintrag anhängen\n",
    "seminargruppe.remove(\"Ben\")     #Eintrag entfernen\n",
    "print(seminargruppe)\n",
    "print(len(seminargruppe))\n"
   ]
  },
  {
   "cell_type": "markdown",
   "id": "7bc6801c",
   "metadata": {},
   "source": [
    "Folie 7:\n",
    "* Dictionaries sind Datenstrukturen, die Schlüssel-Wert-Paare speichern\n",
    "* Jeder Schlüssel muss eindeutig sein, aber Werte können mehrfach vorkommen"
   ]
  },
  {
   "cell_type": "code",
   "execution_count": null,
   "id": "372877db",
   "metadata": {},
   "outputs": [],
   "source": [
    "student = {\n",
    "    \"name\":\"Anna\",\n",
    "    \"studiengang\":\"WIMB\",\n",
    "    \"CP\":86,\n",
    "    \"kurse\":[\"OR\", \"EWF\", \"Marketing\", \"MM2\"]\n",
    "}\n",
    "\n",
    "print(student[\"name\"]) #Zugriff auf einen Wert mit seinem Schlüssel\n",
    "student[\"CP\"] = 90     #Wert eines bestehenden Schlüssels ändern\n",
    "student[\"age\"] = 25    #Einen neuen Eintrag hinzufügen   "
   ]
  },
  {
   "cell_type": "markdown",
   "id": "a64620aa",
   "metadata": {},
   "source": [
    "Folie 8:\n",
    "* Rechenoperationen der Grundrechenarten"
   ]
  },
  {
   "cell_type": "code",
   "execution_count": null,
   "id": "e0f84e98",
   "metadata": {},
   "outputs": [],
   "source": [
    "a = 10\n",
    "b = 3\n",
    "print(a+b) #Ausgabe: 13\n",
    "print(a-b) #Ausgabe: 7\n",
    "print(a*b) #Ausgabe: 30\n",
    "print(a/b) #Ausgabe: 3.333333"
   ]
  },
  {
   "cell_type": "markdown",
   "id": "c4f70b6a",
   "metadata": {},
   "source": [
    "Folie 8:\n",
    "* Verkettungen von Strings"
   ]
  },
  {
   "cell_type": "code",
   "execution_count": null,
   "id": "5c04a351",
   "metadata": {},
   "outputs": [],
   "source": [
    "name = \"Emil\"\n",
    "print(\"Hallo \" + name) #Ausgabe: Hallo Emil"
   ]
  },
  {
   "cell_type": "markdown",
   "id": "6ca9799d",
   "metadata": {},
   "source": [
    "Folie 9:\n",
    "* if überprüft eine Bedingung und führt den Code nur aus, wenn sie wahr (True) ist\n",
    "* else und elif bieten alternative Pfade\n",
    "* Logische Operatoren für Vergleiche: == (Gleichheit), != (Ungleichheit), <, >, <=, >=\n",
    "* Kombinierte Bedingungen: and, or, not"
   ]
  },
  {
   "cell_type": "code",
   "execution_count": null,
   "id": "9e2074af",
   "metadata": {},
   "outputs": [],
   "source": [
    "note = 4.0\n",
    "taeuschungsversuch = False\n",
    "if (note <= 1.3 and not taeuschungsversuch):\n",
    "    print(\"Du hast sehr gut bestanden! Herzlichen Glueckwunsch!\")\n",
    "elif (note <= 4.0 and not taeuschungsversuch):\n",
    "    print(\"Du hast bestanden!\")\n",
    "else:\n",
    "    print(\"Du hast nicht bestanden.\")"
   ]
  },
  {
   "cell_type": "markdown",
   "id": "e3229921",
   "metadata": {},
   "source": [
    "Folie 10:\n",
    "* for dient dazu, über eine Sequenz zu iterieren (z.B. Listen, Zeichenketten, range)"
   ]
  },
  {
   "cell_type": "code",
   "execution_count": null,
   "id": "c6ab5379",
   "metadata": {},
   "outputs": [],
   "source": [
    "seminargruppe = [\"Anna\", \"Caro\", \"David\"]\n",
    "\n",
    "for name in seminargruppe:\n",
    "    print(name)\n",
    "    \n",
    "print(\"\\nAusgabe zweite for-loop:\")\n",
    "\n",
    "for i in range(3):\n",
    "    print(i)"
   ]
  }
 ],
 "metadata": {
  "kernelspec": {
   "display_name": "Python 3 (ipykernel)",
   "language": "python",
   "name": "python3"
  },
  "language_info": {
   "codemirror_mode": {
    "name": "ipython",
    "version": 3
   },
   "file_extension": ".py",
   "mimetype": "text/x-python",
   "name": "python",
   "nbconvert_exporter": "python",
   "pygments_lexer": "ipython3",
   "version": "3.11.7"
  }
 },
 "nbformat": 4,
 "nbformat_minor": 5
}
