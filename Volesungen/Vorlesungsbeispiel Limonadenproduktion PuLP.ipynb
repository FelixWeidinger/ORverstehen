{
 "cells": [
  {
   "cell_type": "markdown",
   "id": "4009a76b",
   "metadata": {},
   "source": [
    "# Vorlesungsbeispiel Limonadenproduktion mit PuLP"
   ]
  },
  {
   "cell_type": "markdown",
   "id": "868ced88",
   "metadata": {},
   "source": [
    "Schritt 0: PuLP via pip installieren (nur beim ersten Verwenden notwendig)"
   ]
  },
  {
   "cell_type": "code",
   "execution_count": null,
   "id": "043d7be5",
   "metadata": {},
   "outputs": [],
   "source": [
    "!pip install pulp"
   ]
  },
  {
   "cell_type": "markdown",
   "id": "11bfd02c",
   "metadata": {},
   "source": [
    "Schritt 1: Importieren des Python-Moduls von PuLP"
   ]
  },
  {
   "cell_type": "code",
   "execution_count": null,
   "id": "9763eee5",
   "metadata": {},
   "outputs": [],
   "source": [
    "from pulp import *"
   ]
  },
  {
   "cell_type": "markdown",
   "id": "748208d0",
   "metadata": {},
   "source": [
    "Schritt 2: Einlesen der Daten"
   ]
  },
  {
   "cell_type": "code",
   "execution_count": null,
   "id": "22801657",
   "metadata": {},
   "outputs": [],
   "source": [
    "sorten=[\"Zitrone\", \"Orange\"]\n",
    "\n",
    "preise = {\n",
    "    \"Zitrone\": 6,\n",
    "    \"Orange\": 3}\n",
    "\n",
    "mengenbedarf = {\n",
    "    \"Zitrone\": 3,\n",
    "    \"Orange\": 1}\n",
    "\n",
    "maxabsatz = {\n",
    "    \"Zitrone\": 80,\n",
    "    \"Orange\": 70}\n",
    "\n",
    "zeit_mischen = {\n",
    "    \"Zitrone\": 1,\n",
    "    \"Orange\": 1}\n",
    "\n",
    "zeit_sprudeln = {\n",
    "    \"Zitrone\": 1,\n",
    "    \"Orange\": 2}\n",
    "\n",
    "zeitkapazitaet_maschinen = {\n",
    "    \"mischen\": 100,\n",
    "    \"sprudeln\": 160}\n",
    "    \n",
    "\n",
    "menge_geheimzutat = 240"
   ]
  },
  {
   "cell_type": "markdown",
   "id": "4e7efe98",
   "metadata": {},
   "source": [
    "Schritt 3: Initialisierung des Optimierungsmodells"
   ]
  },
  {
   "cell_type": "code",
   "execution_count": null,
   "id": "9b92cff0",
   "metadata": {},
   "outputs": [],
   "source": [
    "prob = LpProblem(\"Limonadenproduktion\", LpMaximize)"
   ]
  },
  {
   "cell_type": "markdown",
   "id": "8ae2c2e1",
   "metadata": {},
   "source": [
    "Schritt 4: Entscheidungsvariablen"
   ]
  },
  {
   "cell_type": "code",
   "execution_count": null,
   "id": "fe78c33a",
   "metadata": {},
   "outputs": [],
   "source": [
    "variables = {}\n",
    "for sorte in sorten:\n",
    "    variables[sorte] = LpVariable(\"Produktionsmenge_\"+sorte, 0, maxabsatz[sorte], LpContinuous)"
   ]
  },
  {
   "cell_type": "markdown",
   "id": "45afbe99",
   "metadata": {},
   "source": [
    "Schritt 5: Zielfunktion"
   ]
  },
  {
   "cell_type": "code",
   "execution_count": null,
   "id": "7ce0e3c7",
   "metadata": {},
   "outputs": [],
   "source": [
    "prob += (\n",
    "    lpSum(variables[sorte] * preise[sorte] for sorte in sorten), \"Gesamtgewinn\"    \n",
    ")"
   ]
  },
  {
   "cell_type": "markdown",
   "id": "74cf6382",
   "metadata": {},
   "source": [
    "Schritt 6: Nebenbedingungen"
   ]
  },
  {
   "cell_type": "code",
   "execution_count": null,
   "id": "2803533a",
   "metadata": {},
   "outputs": [],
   "source": [
    "prob += (\n",
    "    lpSum(variables[sorte] * mengenbedarf[sorte] for sorte in sorten) <= menge_geheimzutat, \"Mengenbeschraenkung Geheimzutat\"\n",
    ")\n",
    "\n",
    "prob += (\n",
    "    lpSum(variables[sorte] * zeit_mischen[sorte] for sorte in sorten) <= zeitkapazitaet_maschinen[\"mischen\"], \"Zeitbeschraenkung Mischmaschine\"\n",
    ")\n",
    "\n",
    "prob += (\n",
    "    lpSum(variables[sorte] * zeit_sprudeln[sorte] for sorte in sorten) <= zeitkapazitaet_maschinen[\"sprudeln\"], \"Zeitbeschraenkung Sprudelmaschine\"\n",
    ")"
   ]
  },
  {
   "cell_type": "markdown",
   "id": "b3743e63",
   "metadata": {},
   "source": [
    "Schritt 7: Lösen des Optimierungsmodells"
   ]
  },
  {
   "cell_type": "code",
   "execution_count": null,
   "id": "f7720bad",
   "metadata": {},
   "outputs": [],
   "source": [
    "#Lösen\n",
    "prob.solve()\n",
    "\n",
    "#Logging\n",
    "if(prob.status == 1):\n",
    "    print(f\"Das Modell wurde optimal geloest. Der optimale Zielfunktionswert betraegt {value(prob.objective)}.\")\n",
    "    print(f\"Die Loesungszeit betrug {value(prob.solutionTime)} Sekunden.\")\n",
    "    print()\n",
    "    print(f\"Optimales Prduktionsprogramm:\")\n",
    "    for s in sorten:\n",
    "        print(f\"Produktionsmenge der Sorte {s}: {variables[s].varValue} Liter\")"
   ]
  }
 ],
 "metadata": {
  "kernelspec": {
   "display_name": "Python 3 (ipykernel)",
   "language": "python",
   "name": "python3"
  },
  "language_info": {
   "codemirror_mode": {
    "name": "ipython",
    "version": 3
   },
   "file_extension": ".py",
   "mimetype": "text/x-python",
   "name": "python",
   "nbconvert_exporter": "python",
   "pygments_lexer": "ipython3",
   "version": "3.11.7"
  }
 },
 "nbformat": 4,
 "nbformat_minor": 5
}
