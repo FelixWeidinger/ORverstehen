{
 "cells": [
  {
   "cell_type": "markdown",
   "id": "d90a3785",
   "metadata": {
    "id": "d90a3785"
   },
   "source": [
    "# Dijkstra Algorithmus aus Kapitel 3"
   ]
  },
  {
   "cell_type": "code",
   "execution_count": null,
   "id": "abdc62a4",
   "metadata": {
    "ExecuteTime": {
     "end_time": "2024-10-31T10:05:54.778503Z",
     "start_time": "2024-10-31T10:05:54.753349Z"
    },
    "id": "abdc62a4"
   },
   "outputs": [],
   "source": [
    "def Dijkstra_Algorithmus(graph, a):\n",
    "\n",
    "    # Initialisierung des Entfernungsfeldes D für alle Knoten:\n",
    "    # Setze D[i] für alle Knoten i ≠ a auf ∞ und D[a] (Startknoten) auf 0.\n",
    "    D = {node: float('inf') for node in graph}\n",
    "    D[a] = 0\n",
    "\n",
    "    # Initialisierung des Vorgängerfeldes R für alle Knoten:\n",
    "    # R[i] gibt den unmittelbaren Vorgängerknoten von i an, der auf kürzestem Weg von a nach i liegt.\n",
    "    R = {node: None for node in graph}\n",
    "\n",
    "    # Initialisiere die Menge markierter Knoten (MK) mit dem Startknoten a.\n",
    "    # MK enthält Knoten, deren kürzeste Entfernung noch zu überprüfen ist.\n",
    "    MK = {a}\n",
    "\n",
    "    # Die Schleife läuft, bis MK leer ist, also keine markierten Knoten mehr vorhanden sind.\n",
    "    while MK:\n",
    "\n",
    "        # Wähle Knoten h aus MK mit der aktuell kürzesten bekannten Entfernung von a.\n",
    "        # Dies stellt sicher, dass der kürzeste Weg zu diesem Knoten gefunden wird.\n",
    "        h = min(MK, key=lambda node: D[node])\n",
    "\n",
    "        # Für jeden Nachfolger j von h im Graphen:\n",
    "        for j in graph[h]:\n",
    "\n",
    "            # Speichere die Distanz zwischen den Knoten h und seinem Nachfolger j unter c_hj ab.\n",
    "            c_hj = graph[h][j]\n",
    "\n",
    "            # Falls der Weg von a nach j über h kürzer ist als der aktuell bekannte kürzeste Weg:\n",
    "            if D[j] > D[h] + c_hj:\n",
    "\n",
    "                # Aktualisiere D[j] auf die kürzere gefundene Entfernung.\n",
    "                D[j] = D[h] + c_hj\n",
    "\n",
    "                # Setze R[j] auf h, um h als Vorgänger von j im kürzesten Weg zu speichern.\n",
    "                R[j] = h\n",
    "\n",
    "                # Füge j zur Menge MK hinzu\n",
    "                MK.add(j)\n",
    "\n",
    "        # Entferne den Knoten h aus MK\n",
    "        MK.remove(h)\n",
    "\n",
    "    return D, R"
   ]
  },
  {
   "cell_type": "code",
   "execution_count": null,
   "id": "bda9fe29",
   "metadata": {
    "ExecuteTime": {
     "end_time": "2024-10-31T10:05:54.780382Z",
     "start_time": "2024-10-31T10:05:54.761751Z"
    },
    "id": "ef40e907"
   },
   "outputs": [],
   "source": [
    "def Weg(a,R,b):\n",
    "\n",
    "    # Initialisiere eine leere Liste, die den Weg von a nach b speichern soll.\n",
    "    weg = []\n",
    "\n",
    "    # Solange der Vorgänger von b in R nicht None oder der Startknoten a ist:\n",
    "    while R[b] not in {None, a}:\n",
    "\n",
    "        # Füge den aktuellen Knoten b zu weg hinzu.\n",
    "        weg.append(b)\n",
    "\n",
    "        # Setze b auf den Vorgänger vom bisherigen b, um den Weg rückwärts aufzubauen.\n",
    "        b = R[b]\n",
    "\n",
    "    # Füge den aktuellen Knoten b hinzu zu weg hinzu.\n",
    "    weg.append(b)\n",
    "\n",
    "    # Füge schließlich den Startknoten a zu weg hinzu.\n",
    "    weg.append(a)\n",
    "\n",
    "    # Da der Weg von Ziel nach Start aufgebaut wurde, kehre die Reihenfolge um.\n",
    "    weg.reverse()\n",
    "\n",
    "    return weg"
   ]
  },
  {
   "cell_type": "markdown",
   "id": "4be054e6",
   "metadata": {
    "id": "4be054e6"
   },
   "source": [
    "## 1. Beispiel aus der Vorlesung\n"
   ]
  },
  {
   "cell_type": "markdown",
   "id": "efb6731d",
   "metadata": {},
   "source": [
    "![DAV](http://ressources.or-verstehen.de/Dijkstra_Algorithmus_Vorlesung.jpg)"
   ]
  },
  {
   "cell_type": "code",
   "execution_count": null,
   "id": "9152af63",
   "metadata": {
    "ExecuteTime": {
     "end_time": "2024-10-31T10:05:54.781102Z",
     "start_time": "2024-10-31T10:05:54.764061Z"
    },
    "id": "9152af63"
   },
   "outputs": [],
   "source": [
    "# Graph als Dictionary definiert:\n",
    "graph = {\n",
    "    '1': {'2': 20, '4': 10},\n",
    "    '2': {'3': 20, '5': 50},\n",
    "    '3': {'5': 10},\n",
    "    '4': {'2': 20, '5': 50},\n",
    "    '5': {'3': 20}\n",
    "}\n",
    "\n",
    "# Definiere Startknoten a\n",
    "a = '1'"
   ]
  },
  {
   "cell_type": "code",
   "execution_count": null,
   "id": "509e606f",
   "metadata": {
    "ExecuteTime": {
     "end_time": "2024-10-31T10:05:54.781452Z",
     "start_time": "2024-10-31T10:05:54.767609Z"
    },
    "id": "509e606f"
   },
   "outputs": [],
   "source": [
    "D, R = Dijkstra_Algorithmus(graph, a)\n",
    "\n",
    "print(\"D:\", D)\n",
    "print(\"R:\", R)\n",
    "\n",
    "# Definiere Zielknoten b\n",
    "b = '5'\n",
    "print(f\"Weg von {a} nach {b}:\", Weg(a, R, b))"
   ]
  },
  {
   "cell_type": "markdown",
   "id": "330c83ca",
   "metadata": {
    "id": "330c83ca"
   },
   "source": [
    "## 2. Beispiel aus Übung 3 Aufgabe 1\n"
   ]
  },
  {
   "cell_type": "markdown",
   "id": "eea2e90b",
   "metadata": {},
   "source": [
    "![DAU](http://ressources.or-verstehen.de/Dijkstra_Algorithmus_Uebung.jpg)"
   ]
  },
  {
   "cell_type": "code",
   "execution_count": null,
   "id": "64d81f4b",
   "metadata": {
    "ExecuteTime": {
     "end_time": "2024-10-31T10:05:54.781509Z",
     "start_time": "2024-10-31T10:05:54.771352Z"
    },
    "id": "64d81f4b"
   },
   "outputs": [],
   "source": [
    "graph = {\n",
    "    '1': {'2': 2, '3': 1},\n",
    "    '2': {'4': 7, '5': 5},\n",
    "    '3': {'2': 2, '5':5},\n",
    "    '4': {'5': 1},\n",
    "    '5': {'4': 2}\n",
    "}\n",
    "\n",
    "a = '1'\n",
    "b = '4'"
   ]
  },
  {
   "cell_type": "code",
   "execution_count": null,
   "id": "7cf64373",
   "metadata": {
    "ExecuteTime": {
     "end_time": "2024-10-31T10:05:54.781634Z",
     "start_time": "2024-10-31T10:05:54.774453Z"
    },
    "id": "7cf64373"
   },
   "outputs": [],
   "source": [
    "D, R = Dijkstra_Algorithmus(graph, a)\n",
    "\n",
    "print(\"D:\", D)\n",
    "print(\"R:\", R)\n",
    "\n",
    "print(f\"Weg von {a} nach {b}:\", Weg(a, R, b))"
   ]
  },
  {
   "cell_type": "markdown",
   "id": "51e2d227",
   "metadata": {
    "id": "51e2d227"
   },
   "source": [
    "## Anhang"
   ]
  },
  {
   "cell_type": "markdown",
   "id": "31ebcba4",
   "metadata": {
    "id": "31ebcba4"
   },
   "source": [
    "Wichtige Python-Konzepte im Dijkstra-Algorithmus"
   ]
  },
  {
   "cell_type": "markdown",
   "id": "96c0111f",
   "metadata": {
    "id": "96c0111f"
   },
   "source": [
    "1. Erklärung der while Schleife\n",
    "\n",
    "Die while Schleife in Python wird verwendet, um einen Block von Code so lange auszuführen, wie eine bestimmte Bedingung True ist. Hier läuft die Schleife, solange es noch Knoten in MK gibt."
   ]
  },
  {
   "cell_type": "markdown",
   "id": "5e21eff2",
   "metadata": {
    "id": "5e21eff2"
   },
   "source": [
    "2. Erklärung von lambda-Funktionen\n",
    "\n",
    "Eine lambda-Funktion ist eine anonyme, kleine Funktion, die in einer einzigen Zeile definiert wird.\n",
    "Sie wird oft verwendet, wenn wir eine kleine Funktion nur einmal benötigen oder für kurze Operationen.\n",
    "Hier wird sie verwendet, um den Knoten mit der kleinsten Distanz in der Menge MK zu finden.\n",
    "D[node] gibt die Distanz zu jedem Knoten 'node' im Graphen an."
   ]
  }
 ],
 "metadata": {
  "colab": {
   "provenance": []
  },
  "kernelspec": {
   "display_name": "Python 3 (ipykernel)",
   "language": "python",
   "name": "python3"
  },
  "language_info": {
   "codemirror_mode": {
    "name": "ipython",
    "version": 3
   },
   "file_extension": ".py",
   "mimetype": "text/x-python",
   "name": "python",
   "nbconvert_exporter": "python",
   "pygments_lexer": "ipython3",
   "version": "3.11.7"
  }
 },
 "nbformat": 4,
 "nbformat_minor": 5
}
